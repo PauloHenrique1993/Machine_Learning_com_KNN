{
  "nbformat": 4,
  "nbformat_minor": 0,
  "metadata": {
    "colab": {
      "name": "Machine Learning com KNN.ipynb",
      "provenance": [],
      "collapsed_sections": [
        "I0I2HIl1HuaT",
        "PDhIum0gHubL",
        "B3D-uHpLHubR",
        "oNS6iLSOHubU",
        "DRP4jnqMHubY",
        "WPgTKym_Hubc",
        "-ERq6FLBHubh",
        "eYL5t1PkHubo"
      ]
    },
    "language_info": {
      "codemirror_mode": {
        "name": "ipython",
        "version": 3
      },
      "file_extension": ".py",
      "mimetype": "text/x-python",
      "name": "python",
      "nbconvert_exporter": "python",
      "pygments_lexer": "ipython3",
      "version": "3.6.5"
    },
    "kernelspec": {
      "display_name": "Python 3",
      "language": "python",
      "name": "python3"
    }
  },
  "cells": [
    {
      "cell_type": "markdown",
      "metadata": {
        "id": "eiv1KPtmHuYw",
        "colab_type": "text"
      },
      "source": [
        "### Importando as bibliotecas necessárias"
      ]
    },
    {
      "cell_type": "code",
      "metadata": {
        "id": "t1wpSc7PHuYx",
        "colab_type": "code",
        "colab": {}
      },
      "source": [
        "from sklearn import datasets\n",
        "import pandas as pd\n",
        "import matplotlib.pyplot as plt"
      ],
      "execution_count": 0,
      "outputs": []
    },
    {
      "cell_type": "markdown",
      "metadata": {
        "id": "o8oRETQwHuY2",
        "colab_type": "text"
      },
      "source": [
        "#### Biblioteca mlxtend\n",
        "http://rasbt.github.io/mlxtend/"
      ]
    },
    {
      "cell_type": "code",
      "metadata": {
        "collapsed": true,
        "id": "XkfcIfh_HuY3",
        "colab_type": "code",
        "outputId": "7e993261-460f-4bc3-bd8c-83aafcc6f0da",
        "colab": {
          "base_uri": "https://localhost:8080/",
          "height": 255
        }
      },
      "source": [
        "!pip install mlxtend"
      ],
      "execution_count": 2,
      "outputs": [
        {
          "output_type": "stream",
          "text": [
            "Requirement already satisfied: mlxtend in /usr/local/lib/python3.6/dist-packages (0.14.0)\n",
            "Requirement already satisfied: setuptools in /usr/local/lib/python3.6/dist-packages (from mlxtend) (42.0.2)\n",
            "Requirement already satisfied: numpy>=1.10.4 in /usr/local/lib/python3.6/dist-packages (from mlxtend) (1.17.4)\n",
            "Requirement already satisfied: pandas>=0.17.1 in /usr/local/lib/python3.6/dist-packages (from mlxtend) (0.25.3)\n",
            "Requirement already satisfied: matplotlib>=1.5.1 in /usr/local/lib/python3.6/dist-packages (from mlxtend) (3.1.2)\n",
            "Requirement already satisfied: scikit-learn>=0.18 in /usr/local/lib/python3.6/dist-packages (from mlxtend) (0.21.3)\n",
            "Requirement already satisfied: scipy>=0.17 in /usr/local/lib/python3.6/dist-packages (from mlxtend) (1.3.3)\n",
            "Requirement already satisfied: pytz>=2017.2 in /usr/local/lib/python3.6/dist-packages (from pandas>=0.17.1->mlxtend) (2018.9)\n",
            "Requirement already satisfied: python-dateutil>=2.6.1 in /usr/local/lib/python3.6/dist-packages (from pandas>=0.17.1->mlxtend) (2.6.1)\n",
            "Requirement already satisfied: kiwisolver>=1.0.1 in /usr/local/lib/python3.6/dist-packages (from matplotlib>=1.5.1->mlxtend) (1.1.0)\n",
            "Requirement already satisfied: cycler>=0.10 in /usr/local/lib/python3.6/dist-packages (from matplotlib>=1.5.1->mlxtend) (0.10.0)\n",
            "Requirement already satisfied: pyparsing!=2.0.4,!=2.1.2,!=2.1.6,>=2.0.1 in /usr/local/lib/python3.6/dist-packages (from matplotlib>=1.5.1->mlxtend) (2.4.5)\n",
            "Requirement already satisfied: joblib>=0.11 in /usr/local/lib/python3.6/dist-packages (from scikit-learn>=0.18->mlxtend) (0.14.1)\n",
            "Requirement already satisfied: six>=1.5 in /usr/local/lib/python3.6/dist-packages (from python-dateutil>=2.6.1->pandas>=0.17.1->mlxtend) (1.12.0)\n"
          ],
          "name": "stdout"
        }
      ]
    },
    {
      "cell_type": "code",
      "metadata": {
        "id": "tOgNVdczHuY9",
        "colab_type": "code",
        "colab": {}
      },
      "source": [
        "from mlxtend.plotting import plot_decision_regions"
      ],
      "execution_count": 0,
      "outputs": []
    },
    {
      "cell_type": "markdown",
      "metadata": {
        "id": "LWp6Rh4lHuZF",
        "colab_type": "text"
      },
      "source": [
        "### Base de dados - Wine\n",
        "    \n",
        "https://archive.ics.uci.edu/ml/datasets/wine\n",
        "\n",
        "https://scikit-learn.org/stable/modules/generated/sklearn.datasets.load_wine.html#sklearn.datasets.load_wine"
      ]
    },
    {
      "cell_type": "markdown",
      "metadata": {
        "id": "1rsofX18HuZH",
        "colab_type": "text"
      },
      "source": [
        "#### Carregando a Base de Dados"
      ]
    },
    {
      "cell_type": "code",
      "metadata": {
        "id": "bLeEUij9HuZI",
        "colab_type": "code",
        "colab": {}
      },
      "source": [
        "wine = datasets.load_wine()"
      ],
      "execution_count": 0,
      "outputs": []
    },
    {
      "cell_type": "markdown",
      "metadata": {
        "id": "1VMj9m3LHuZL",
        "colab_type": "text"
      },
      "source": [
        "#### Criando o Dataframe"
      ]
    },
    {
      "cell_type": "code",
      "metadata": {
        "id": "sMoh087jHuZM",
        "colab_type": "code",
        "colab": {}
      },
      "source": [
        "df_wine = pd.DataFrame(data=wine.data,columns=wine.feature_names)"
      ],
      "execution_count": 0,
      "outputs": []
    },
    {
      "cell_type": "code",
      "metadata": {
        "id": "kU1VczRHHuZP",
        "colab_type": "code",
        "colab": {}
      },
      "source": [
        "df_wine['class'] = wine.target"
      ],
      "execution_count": 0,
      "outputs": []
    },
    {
      "cell_type": "markdown",
      "metadata": {
        "id": "J-1-7q3YHuZS",
        "colab_type": "text"
      },
      "source": [
        "#### Verificando os dados"
      ]
    },
    {
      "cell_type": "code",
      "metadata": {
        "id": "k5YQ7EiDHuZS",
        "colab_type": "code",
        "outputId": "3b9ea73b-4217-4478-ca70-213f112c7b98",
        "colab": {
          "base_uri": "https://localhost:8080/",
          "height": 224
        }
      },
      "source": [
        "df_wine.head()"
      ],
      "execution_count": 7,
      "outputs": [
        {
          "output_type": "execute_result",
          "data": {
            "text/html": [
              "<div>\n",
              "<style scoped>\n",
              "    .dataframe tbody tr th:only-of-type {\n",
              "        vertical-align: middle;\n",
              "    }\n",
              "\n",
              "    .dataframe tbody tr th {\n",
              "        vertical-align: top;\n",
              "    }\n",
              "\n",
              "    .dataframe thead th {\n",
              "        text-align: right;\n",
              "    }\n",
              "</style>\n",
              "<table border=\"1\" class=\"dataframe\">\n",
              "  <thead>\n",
              "    <tr style=\"text-align: right;\">\n",
              "      <th></th>\n",
              "      <th>alcohol</th>\n",
              "      <th>malic_acid</th>\n",
              "      <th>ash</th>\n",
              "      <th>alcalinity_of_ash</th>\n",
              "      <th>magnesium</th>\n",
              "      <th>total_phenols</th>\n",
              "      <th>flavanoids</th>\n",
              "      <th>nonflavanoid_phenols</th>\n",
              "      <th>proanthocyanins</th>\n",
              "      <th>color_intensity</th>\n",
              "      <th>hue</th>\n",
              "      <th>od280/od315_of_diluted_wines</th>\n",
              "      <th>proline</th>\n",
              "      <th>class</th>\n",
              "    </tr>\n",
              "  </thead>\n",
              "  <tbody>\n",
              "    <tr>\n",
              "      <th>0</th>\n",
              "      <td>14.23</td>\n",
              "      <td>1.71</td>\n",
              "      <td>2.43</td>\n",
              "      <td>15.6</td>\n",
              "      <td>127.0</td>\n",
              "      <td>2.80</td>\n",
              "      <td>3.06</td>\n",
              "      <td>0.28</td>\n",
              "      <td>2.29</td>\n",
              "      <td>5.64</td>\n",
              "      <td>1.04</td>\n",
              "      <td>3.92</td>\n",
              "      <td>1065.0</td>\n",
              "      <td>0</td>\n",
              "    </tr>\n",
              "    <tr>\n",
              "      <th>1</th>\n",
              "      <td>13.20</td>\n",
              "      <td>1.78</td>\n",
              "      <td>2.14</td>\n",
              "      <td>11.2</td>\n",
              "      <td>100.0</td>\n",
              "      <td>2.65</td>\n",
              "      <td>2.76</td>\n",
              "      <td>0.26</td>\n",
              "      <td>1.28</td>\n",
              "      <td>4.38</td>\n",
              "      <td>1.05</td>\n",
              "      <td>3.40</td>\n",
              "      <td>1050.0</td>\n",
              "      <td>0</td>\n",
              "    </tr>\n",
              "    <tr>\n",
              "      <th>2</th>\n",
              "      <td>13.16</td>\n",
              "      <td>2.36</td>\n",
              "      <td>2.67</td>\n",
              "      <td>18.6</td>\n",
              "      <td>101.0</td>\n",
              "      <td>2.80</td>\n",
              "      <td>3.24</td>\n",
              "      <td>0.30</td>\n",
              "      <td>2.81</td>\n",
              "      <td>5.68</td>\n",
              "      <td>1.03</td>\n",
              "      <td>3.17</td>\n",
              "      <td>1185.0</td>\n",
              "      <td>0</td>\n",
              "    </tr>\n",
              "    <tr>\n",
              "      <th>3</th>\n",
              "      <td>14.37</td>\n",
              "      <td>1.95</td>\n",
              "      <td>2.50</td>\n",
              "      <td>16.8</td>\n",
              "      <td>113.0</td>\n",
              "      <td>3.85</td>\n",
              "      <td>3.49</td>\n",
              "      <td>0.24</td>\n",
              "      <td>2.18</td>\n",
              "      <td>7.80</td>\n",
              "      <td>0.86</td>\n",
              "      <td>3.45</td>\n",
              "      <td>1480.0</td>\n",
              "      <td>0</td>\n",
              "    </tr>\n",
              "    <tr>\n",
              "      <th>4</th>\n",
              "      <td>13.24</td>\n",
              "      <td>2.59</td>\n",
              "      <td>2.87</td>\n",
              "      <td>21.0</td>\n",
              "      <td>118.0</td>\n",
              "      <td>2.80</td>\n",
              "      <td>2.69</td>\n",
              "      <td>0.39</td>\n",
              "      <td>1.82</td>\n",
              "      <td>4.32</td>\n",
              "      <td>1.04</td>\n",
              "      <td>2.93</td>\n",
              "      <td>735.0</td>\n",
              "      <td>0</td>\n",
              "    </tr>\n",
              "  </tbody>\n",
              "</table>\n",
              "</div>"
            ],
            "text/plain": [
              "   alcohol  malic_acid   ash  ...  od280/od315_of_diluted_wines  proline  class\n",
              "0    14.23        1.71  2.43  ...                          3.92   1065.0      0\n",
              "1    13.20        1.78  2.14  ...                          3.40   1050.0      0\n",
              "2    13.16        2.36  2.67  ...                          3.17   1185.0      0\n",
              "3    14.37        1.95  2.50  ...                          3.45   1480.0      0\n",
              "4    13.24        2.59  2.87  ...                          2.93    735.0      0\n",
              "\n",
              "[5 rows x 14 columns]"
            ]
          },
          "metadata": {
            "tags": []
          },
          "execution_count": 7
        }
      ]
    },
    {
      "cell_type": "markdown",
      "metadata": {
        "id": "Jc1_mq-5HuZX",
        "colab_type": "text"
      },
      "source": [
        "#### Informações da Base de Dados"
      ]
    },
    {
      "cell_type": "code",
      "metadata": {
        "collapsed": true,
        "id": "RBius0m2HuZY",
        "colab_type": "code",
        "outputId": "658599c9-5936-412c-fe10-740f79dbc590",
        "colab": {
          "base_uri": "https://localhost:8080/",
          "height": 340
        }
      },
      "source": [
        "df_wine.info()"
      ],
      "execution_count": 8,
      "outputs": [
        {
          "output_type": "stream",
          "text": [
            "<class 'pandas.core.frame.DataFrame'>\n",
            "RangeIndex: 178 entries, 0 to 177\n",
            "Data columns (total 14 columns):\n",
            "alcohol                         178 non-null float64\n",
            "malic_acid                      178 non-null float64\n",
            "ash                             178 non-null float64\n",
            "alcalinity_of_ash               178 non-null float64\n",
            "magnesium                       178 non-null float64\n",
            "total_phenols                   178 non-null float64\n",
            "flavanoids                      178 non-null float64\n",
            "nonflavanoid_phenols            178 non-null float64\n",
            "proanthocyanins                 178 non-null float64\n",
            "color_intensity                 178 non-null float64\n",
            "hue                             178 non-null float64\n",
            "od280/od315_of_diluted_wines    178 non-null float64\n",
            "proline                         178 non-null float64\n",
            "class                           178 non-null int64\n",
            "dtypes: float64(13), int64(1)\n",
            "memory usage: 19.6 KB\n"
          ],
          "name": "stdout"
        }
      ]
    },
    {
      "cell_type": "code",
      "metadata": {
        "id": "qBmgqoPJHuZc",
        "colab_type": "code",
        "outputId": "10904b18-1122-40f8-eff9-a90b55d9e0e8",
        "colab": {
          "base_uri": "https://localhost:8080/",
          "height": 85
        }
      },
      "source": [
        "df_wine['class'].value_counts()"
      ],
      "execution_count": 9,
      "outputs": [
        {
          "output_type": "execute_result",
          "data": {
            "text/plain": [
              "1    71\n",
              "0    59\n",
              "2    48\n",
              "Name: class, dtype: int64"
            ]
          },
          "metadata": {
            "tags": []
          },
          "execution_count": 9
        }
      ]
    },
    {
      "cell_type": "markdown",
      "metadata": {
        "id": "3LypLGw4HuZk",
        "colab_type": "text"
      },
      "source": [
        "### Quando usar o Algoritmo KNN\n",
        "- Pode ser utilizado para tarefas de Classificação e Regressão.\n",
        "- Simplicidade e Fácil interpretação.\n",
        "- Arquitetura Lazy (\"treinamento\" rápido).\n",
        "- Flexibilidade de Métodos de Distância.\n",
        "- Rápido tempo de predição.\n",
        "- Nenhuma suposição quanto a distribuição dos dados."
      ]
    },
    {
      "cell_type": "markdown",
      "metadata": {
        "id": "PwPEpng-HuZk",
        "colab_type": "text"
      },
      "source": [
        "### Como funciona o KNN ?"
      ]
    },
    {
      "cell_type": "markdown",
      "metadata": {
        "id": "nxk7RjZbHuZl",
        "colab_type": "text"
      },
      "source": [
        "### Aplicando o KNN na Base de Dados Wine"
      ]
    },
    {
      "cell_type": "markdown",
      "metadata": {
        "id": "jNpmJ25uHuZm",
        "colab_type": "text"
      },
      "source": [
        "#### Separando os dados de treino e teste."
      ]
    },
    {
      "cell_type": "code",
      "metadata": {
        "id": "-wysUEgKHuZn",
        "colab_type": "code",
        "colab": {}
      },
      "source": [
        "from sklearn.model_selection import train_test_split"
      ],
      "execution_count": 0,
      "outputs": []
    },
    {
      "cell_type": "code",
      "metadata": {
        "id": "uplM600FHuZq",
        "colab_type": "code",
        "colab": {}
      },
      "source": [
        "X_train, X_test, y_train, y_test = train_test_split(df_wine.drop('class',axis=1), df_wine['class'], test_size=0.3)"
      ],
      "execution_count": 0,
      "outputs": []
    },
    {
      "cell_type": "markdown",
      "metadata": {
        "id": "ddiuP3JHHuZs",
        "colab_type": "text"
      },
      "source": [
        "####  Instanciando o Classificador."
      ]
    },
    {
      "cell_type": "code",
      "metadata": {
        "id": "QgsqHx0JHuZt",
        "colab_type": "code",
        "colab": {}
      },
      "source": [
        "from sklearn.neighbors import KNeighborsClassifier"
      ],
      "execution_count": 0,
      "outputs": []
    },
    {
      "cell_type": "markdown",
      "metadata": {
        "id": "wJ3FfxOiHuZx",
        "colab_type": "text"
      },
      "source": [
        "Alguns parametros interessantes:\n",
        "- **n_neighbors**: Número de vizinhos (Default=5).\n",
        "- **weights**: Peso de amostras vizinhas (Default=uniform).\n",
        "- **metric**: Métrica utilizada para o cálculo de distância (Default=minkowski).\n",
        "- **p**: Parametro de poder para a métrica (Default=2).\n",
        "- **n_jobs**: Número de jobs paralelos para executar no momento da busca de vizinhos. (Default=1)"
      ]
    },
    {
      "cell_type": "code",
      "metadata": {
        "scrolled": true,
        "id": "rPwBmwDHHuZz",
        "colab_type": "code",
        "colab": {}
      },
      "source": [
        "knn = KNeighborsClassifier(n_neighbors=3)"
      ],
      "execution_count": 0,
      "outputs": []
    },
    {
      "cell_type": "markdown",
      "metadata": {
        "id": "yRH0EEh8HuZ1",
        "colab_type": "text"
      },
      "source": [
        "####  Treinando o algoritmo com os dados de treinamento."
      ]
    },
    {
      "cell_type": "code",
      "metadata": {
        "scrolled": true,
        "id": "MO4RvcijHuZ2",
        "colab_type": "code",
        "outputId": "8fdab935-bdae-4956-e16e-1bb0b104c527",
        "colab": {
          "base_uri": "https://localhost:8080/",
          "height": 68
        }
      },
      "source": [
        "knn.fit(X_train, y_train)"
      ],
      "execution_count": 14,
      "outputs": [
        {
          "output_type": "execute_result",
          "data": {
            "text/plain": [
              "KNeighborsClassifier(algorithm='auto', leaf_size=30, metric='minkowski',\n",
              "                     metric_params=None, n_jobs=None, n_neighbors=3, p=2,\n",
              "                     weights='uniform')"
            ]
          },
          "metadata": {
            "tags": []
          },
          "execution_count": 14
        }
      ]
    },
    {
      "cell_type": "markdown",
      "metadata": {
        "id": "OO1DTeK2HuZ8",
        "colab_type": "text"
      },
      "source": [
        "#### Executando o KNN com o conjunto de teste"
      ]
    },
    {
      "cell_type": "code",
      "metadata": {
        "id": "It4soGn_HuZ-",
        "colab_type": "code",
        "outputId": "a17c319d-73ef-41c2-d79a-a6a35c2b9f65",
        "colab": {
          "base_uri": "https://localhost:8080/",
          "height": 68
        }
      },
      "source": [
        "resultado = knn.predict(X_test)\n",
        "resultado"
      ],
      "execution_count": 15,
      "outputs": [
        {
          "output_type": "execute_result",
          "data": {
            "text/plain": [
              "array([0, 1, 0, 2, 1, 1, 0, 1, 2, 2, 2, 0, 2, 2, 0, 0, 2, 1, 2, 2, 1, 0,\n",
              "       0, 1, 2, 2, 1, 2, 0, 1, 0, 1, 0, 1, 0, 1, 0, 2, 0, 1, 1, 0, 1, 2,\n",
              "       0, 0, 0, 2, 0, 0, 0, 0, 0, 0])"
            ]
          },
          "metadata": {
            "tags": []
          },
          "execution_count": 15
        }
      ]
    },
    {
      "cell_type": "markdown",
      "metadata": {
        "id": "I0I2HIl1HuaT",
        "colab_type": "text"
      },
      "source": [
        "#### Técnicas de Validação"
      ]
    },
    {
      "cell_type": "markdown",
      "metadata": {
        "id": "RqC3qhslHuaU",
        "colab_type": "text"
      },
      "source": [
        "#### Matriz de Confusão"
      ]
    },
    {
      "cell_type": "code",
      "metadata": {
        "id": "ZiegBh8fHuaV",
        "colab_type": "code",
        "outputId": "c550c553-3455-4c86-c182-9e29d57a0bbe",
        "colab": {
          "base_uri": "https://localhost:8080/",
          "height": 119
        }
      },
      "source": [
        "print (pd.crosstab(y_test,resultado, rownames=['Real'], colnames=['          Predito'], margins=True))"
      ],
      "execution_count": 16,
      "outputs": [
        {
          "output_type": "stream",
          "text": [
            "          Predito   0   1   2  All\n",
            "Real                              \n",
            "0                  17   1   2   20\n",
            "1                   5  12   5   22\n",
            "2                   2   2   8   12\n",
            "All                24  15  15   54\n"
          ],
          "name": "stdout"
        }
      ]
    },
    {
      "cell_type": "markdown",
      "metadata": {
        "id": "6xB4zmyvHuaa",
        "colab_type": "text"
      },
      "source": [
        "#### Metricas de classificação"
      ]
    },
    {
      "cell_type": "code",
      "metadata": {
        "id": "QYTa62icHuac",
        "colab_type": "code",
        "outputId": "c40df752-2608-463f-b17f-f3f059eac344",
        "colab": {
          "base_uri": "https://localhost:8080/",
          "height": 187
        }
      },
      "source": [
        "from sklearn import metrics\n",
        "print(metrics.classification_report(y_test,resultado,target_names=wine.target_names))"
      ],
      "execution_count": 17,
      "outputs": [
        {
          "output_type": "stream",
          "text": [
            "              precision    recall  f1-score   support\n",
            "\n",
            "     class_0       0.71      0.85      0.77        20\n",
            "     class_1       0.80      0.55      0.65        22\n",
            "     class_2       0.53      0.67      0.59        12\n",
            "\n",
            "    accuracy                           0.69        54\n",
            "   macro avg       0.68      0.69      0.67        54\n",
            "weighted avg       0.71      0.69      0.68        54\n",
            "\n"
          ],
          "name": "stdout"
        }
      ]
    },
    {
      "cell_type": "markdown",
      "metadata": {
        "id": "RiyH5f-WHuag",
        "colab_type": "text"
      },
      "source": [
        "#### Otimizando o Parametro K utilizando GridSearch"
      ]
    },
    {
      "cell_type": "code",
      "metadata": {
        "id": "5Z54NQLkHuah",
        "colab_type": "code",
        "colab": {}
      },
      "source": [
        "from sklearn.model_selection import GridSearchCV"
      ],
      "execution_count": 0,
      "outputs": []
    },
    {
      "cell_type": "markdown",
      "metadata": {
        "id": "JXPtNhycHual",
        "colab_type": "text"
      },
      "source": [
        "#### Definindo a lista de valores para os parametros"
      ]
    },
    {
      "cell_type": "code",
      "metadata": {
        "id": "6nP-siH-Huan",
        "colab_type": "code",
        "colab": {}
      },
      "source": [
        "k_list = list(range(1,31))\n",
        "weight_list = ['uniform','distance']\n",
        "p_list = [1,2]"
      ],
      "execution_count": 0,
      "outputs": []
    },
    {
      "cell_type": "code",
      "metadata": {
        "id": "7CVE_M37Huas",
        "colab_type": "code",
        "colab": {}
      },
      "source": [
        "parametros = dict(n_neighbors=k_list)"
      ],
      "execution_count": 0,
      "outputs": []
    },
    {
      "cell_type": "code",
      "metadata": {
        "scrolled": true,
        "id": "uqZCfLYgHuau",
        "colab_type": "code",
        "outputId": "94a0a782-016d-47bb-daf3-d07f7e693267",
        "colab": {
          "base_uri": "https://localhost:8080/",
          "height": 527
        }
      },
      "source": [
        "parametros"
      ],
      "execution_count": 21,
      "outputs": [
        {
          "output_type": "execute_result",
          "data": {
            "text/plain": [
              "{'n_neighbors': [1,\n",
              "  2,\n",
              "  3,\n",
              "  4,\n",
              "  5,\n",
              "  6,\n",
              "  7,\n",
              "  8,\n",
              "  9,\n",
              "  10,\n",
              "  11,\n",
              "  12,\n",
              "  13,\n",
              "  14,\n",
              "  15,\n",
              "  16,\n",
              "  17,\n",
              "  18,\n",
              "  19,\n",
              "  20,\n",
              "  21,\n",
              "  22,\n",
              "  23,\n",
              "  24,\n",
              "  25,\n",
              "  26,\n",
              "  27,\n",
              "  28,\n",
              "  29,\n",
              "  30]}"
            ]
          },
          "metadata": {
            "tags": []
          },
          "execution_count": 21
        }
      ]
    },
    {
      "cell_type": "markdown",
      "metadata": {
        "id": "LZQlyFm4Huax",
        "colab_type": "text"
      },
      "source": [
        "#### Instânciando o objeto GridSearch"
      ]
    },
    {
      "cell_type": "code",
      "metadata": {
        "id": "Srbtu-_CHua2",
        "colab_type": "code",
        "colab": {}
      },
      "source": [
        "grid = GridSearchCV(knn, parametros, cv=5, scoring='accuracy')"
      ],
      "execution_count": 0,
      "outputs": []
    },
    {
      "cell_type": "markdown",
      "metadata": {
        "id": "ep2n0CSKHua5",
        "colab_type": "text"
      },
      "source": [
        "#### Treinando o objeto"
      ]
    },
    {
      "cell_type": "code",
      "metadata": {
        "id": "RUd9ZP8aHua6",
        "colab_type": "code",
        "outputId": "59cef0b5-a737-4a56-b6bd-4d270c697b92",
        "colab": {
          "base_uri": "https://localhost:8080/",
          "height": 275
        }
      },
      "source": [
        "grid.fit(df_wine.drop('class',axis=1),df_wine['class'])"
      ],
      "execution_count": 23,
      "outputs": [
        {
          "output_type": "stream",
          "text": [
            "/usr/local/lib/python3.6/dist-packages/sklearn/model_selection/_search.py:814: DeprecationWarning: The default of the `iid` parameter will change from True to False in version 0.22 and will be removed in 0.24. This will change numeric results when test-set sizes are unequal.\n",
            "  DeprecationWarning)\n"
          ],
          "name": "stderr"
        },
        {
          "output_type": "execute_result",
          "data": {
            "text/plain": [
              "GridSearchCV(cv=5, error_score='raise-deprecating',\n",
              "             estimator=KNeighborsClassifier(algorithm='auto', leaf_size=30,\n",
              "                                            metric='minkowski',\n",
              "                                            metric_params=None, n_jobs=None,\n",
              "                                            n_neighbors=3, p=2,\n",
              "                                            weights='uniform'),\n",
              "             iid='warn', n_jobs=None,\n",
              "             param_grid={'n_neighbors': [1, 2, 3, 4, 5, 6, 7, 8, 9, 10, 11, 12,\n",
              "                                         13, 14, 15, 16, 17, 18, 19, 20, 21, 22,\n",
              "                                         23, 24, 25, 26, 27, 28, 29, 30]},\n",
              "             pre_dispatch='2*n_jobs', refit=True, return_train_score=False,\n",
              "             scoring='accuracy', verbose=0)"
            ]
          },
          "metadata": {
            "tags": []
          },
          "execution_count": 23
        }
      ]
    },
    {
      "cell_type": "markdown",
      "metadata": {
        "id": "d0uKmiu3Hua8",
        "colab_type": "text"
      },
      "source": [
        "#### Verificando os valores de scores"
      ]
    },
    {
      "cell_type": "code",
      "metadata": {
        "id": "2NaKwEj-Hua9",
        "colab_type": "code",
        "outputId": "86ffa4ed-e7bc-45b0-aff3-3cda6196f256",
        "colab": {
          "base_uri": "https://localhost:8080/",
          "height": 1000
        }
      },
      "source": [
        "grid.cv_results_"
      ],
      "execution_count": 24,
      "outputs": [
        {
          "output_type": "execute_result",
          "data": {
            "text/plain": [
              "{'mean_fit_time': array([0.00444732, 0.00312095, 0.00222516, 0.00213108, 0.00221901,\n",
              "        0.00213804, 0.00217834, 0.00218821, 0.00190082, 0.0022325 ,\n",
              "        0.0018342 , 0.00192223, 0.00182128, 0.00181355, 0.00182981,\n",
              "        0.00185509, 0.00203414, 0.0020401 , 0.00210161, 0.00214095,\n",
              "        0.00202436, 0.00205431, 0.00207963, 0.00208392, 0.00203338,\n",
              "        0.00196939, 0.00202441, 0.00212998, 0.00183272, 0.00198426]),\n",
              " 'mean_score_time': array([0.00579119, 0.00363803, 0.00297656, 0.00269947, 0.00299244,\n",
              "        0.00310125, 0.00306125, 0.002777  , 0.00276241, 0.0027637 ,\n",
              "        0.00250816, 0.00261288, 0.00250921, 0.0025239 , 0.00254903,\n",
              "        0.0025434 , 0.00304308, 0.00289216, 0.00289845, 0.00303326,\n",
              "        0.00289865, 0.00291696, 0.00299387, 0.00292368, 0.00289783,\n",
              "        0.00280471, 0.00286312, 0.0029139 , 0.00263538, 0.00301485]),\n",
              " 'mean_test_score': array([0.7247191 , 0.66292135, 0.70224719, 0.67977528, 0.68539326,\n",
              "        0.69101124, 0.69101124, 0.69662921, 0.70224719, 0.69101124,\n",
              "        0.67977528, 0.69101124, 0.70786517, 0.70224719, 0.71910112,\n",
              "        0.69662921, 0.70224719, 0.70786517, 0.70224719, 0.70786517,\n",
              "        0.71910112, 0.70224719, 0.70786517, 0.69662921, 0.71910112,\n",
              "        0.71348315, 0.71348315, 0.71348315, 0.71348315, 0.71910112]),\n",
              " 'param_n_neighbors': masked_array(data=[1, 2, 3, 4, 5, 6, 7, 8, 9, 10, 11, 12, 13, 14, 15, 16,\n",
              "                    17, 18, 19, 20, 21, 22, 23, 24, 25, 26, 27, 28, 29, 30],\n",
              "              mask=[False, False, False, False, False, False, False, False,\n",
              "                    False, False, False, False, False, False, False, False,\n",
              "                    False, False, False, False, False, False, False, False,\n",
              "                    False, False, False, False, False, False],\n",
              "        fill_value='?',\n",
              "             dtype=object),\n",
              " 'params': [{'n_neighbors': 1},\n",
              "  {'n_neighbors': 2},\n",
              "  {'n_neighbors': 3},\n",
              "  {'n_neighbors': 4},\n",
              "  {'n_neighbors': 5},\n",
              "  {'n_neighbors': 6},\n",
              "  {'n_neighbors': 7},\n",
              "  {'n_neighbors': 8},\n",
              "  {'n_neighbors': 9},\n",
              "  {'n_neighbors': 10},\n",
              "  {'n_neighbors': 11},\n",
              "  {'n_neighbors': 12},\n",
              "  {'n_neighbors': 13},\n",
              "  {'n_neighbors': 14},\n",
              "  {'n_neighbors': 15},\n",
              "  {'n_neighbors': 16},\n",
              "  {'n_neighbors': 17},\n",
              "  {'n_neighbors': 18},\n",
              "  {'n_neighbors': 19},\n",
              "  {'n_neighbors': 20},\n",
              "  {'n_neighbors': 21},\n",
              "  {'n_neighbors': 22},\n",
              "  {'n_neighbors': 23},\n",
              "  {'n_neighbors': 24},\n",
              "  {'n_neighbors': 25},\n",
              "  {'n_neighbors': 26},\n",
              "  {'n_neighbors': 27},\n",
              "  {'n_neighbors': 28},\n",
              "  {'n_neighbors': 29},\n",
              "  {'n_neighbors': 30}],\n",
              " 'rank_test_score': array([ 1, 30, 14, 28, 27, 23, 23, 20, 14, 23, 28, 23, 10, 14,  2, 20, 14,\n",
              "        10, 14, 10,  2, 14, 10, 20,  2,  6,  6,  6,  6,  2], dtype=int32),\n",
              " 'split0_test_score': array([0.78378378, 0.59459459, 0.62162162, 0.62162162, 0.7027027 ,\n",
              "        0.64864865, 0.64864865, 0.67567568, 0.64864865, 0.67567568,\n",
              "        0.67567568, 0.64864865, 0.72972973, 0.67567568, 0.75675676,\n",
              "        0.64864865, 0.67567568, 0.62162162, 0.7027027 , 0.7027027 ,\n",
              "        0.75675676, 0.72972973, 0.72972973, 0.7027027 , 0.72972973,\n",
              "        0.7027027 , 0.7027027 , 0.7027027 , 0.7027027 , 0.7027027 ]),\n",
              " 'split1_test_score': array([0.66666667, 0.63888889, 0.72222222, 0.72222222, 0.66666667,\n",
              "        0.66666667, 0.66666667, 0.72222222, 0.69444444, 0.69444444,\n",
              "        0.66666667, 0.66666667, 0.66666667, 0.63888889, 0.66666667,\n",
              "        0.63888889, 0.66666667, 0.72222222, 0.66666667, 0.66666667,\n",
              "        0.66666667, 0.66666667, 0.69444444, 0.66666667, 0.69444444,\n",
              "        0.75      , 0.72222222, 0.75      , 0.72222222, 0.75      ]),\n",
              " 'split2_test_score': array([0.66666667, 0.63888889, 0.66666667, 0.63888889, 0.63888889,\n",
              "        0.69444444, 0.61111111, 0.63888889, 0.69444444, 0.66666667,\n",
              "        0.66666667, 0.66666667, 0.69444444, 0.66666667, 0.66666667,\n",
              "        0.66666667, 0.66666667, 0.66666667, 0.61111111, 0.66666667,\n",
              "        0.63888889, 0.63888889, 0.63888889, 0.63888889, 0.63888889,\n",
              "        0.63888889, 0.63888889, 0.61111111, 0.61111111, 0.61111111]),\n",
              " 'split3_test_score': array([0.68571429, 0.65714286, 0.65714286, 0.65714286, 0.65714286,\n",
              "        0.68571429, 0.77142857, 0.68571429, 0.71428571, 0.68571429,\n",
              "        0.65714286, 0.74285714, 0.71428571, 0.77142857, 0.71428571,\n",
              "        0.74285714, 0.74285714, 0.74285714, 0.74285714, 0.74285714,\n",
              "        0.74285714, 0.74285714, 0.74285714, 0.74285714, 0.74285714,\n",
              "        0.74285714, 0.71428571, 0.74285714, 0.74285714, 0.74285714]),\n",
              " 'split4_test_score': array([0.82352941, 0.79411765, 0.85294118, 0.76470588, 0.76470588,\n",
              "        0.76470588, 0.76470588, 0.76470588, 0.76470588, 0.73529412,\n",
              "        0.73529412, 0.73529412, 0.73529412, 0.76470588, 0.79411765,\n",
              "        0.79411765, 0.76470588, 0.79411765, 0.79411765, 0.76470588,\n",
              "        0.79411765, 0.73529412, 0.73529412, 0.73529412, 0.79411765,\n",
              "        0.73529412, 0.79411765, 0.76470588, 0.79411765, 0.79411765]),\n",
              " 'std_fit_time': array([7.37539042e-04, 1.01387431e-03, 1.35611264e-04, 1.82354936e-04,\n",
              "        2.54845636e-04, 4.36603205e-05, 4.66352104e-05, 2.75150328e-04,\n",
              "        1.17421826e-04, 2.29217829e-04, 2.92462542e-05, 3.90525266e-05,\n",
              "        3.18257995e-05, 6.80359238e-05, 1.91421465e-05, 7.75376515e-05,\n",
              "        1.88052412e-04, 4.92169870e-05, 2.10384099e-05, 6.94487416e-05,\n",
              "        3.08773324e-05, 3.15220019e-05, 7.00174278e-05, 4.41898658e-05,\n",
              "        1.80226784e-05, 7.11359538e-05, 1.62867080e-04, 1.10092850e-04,\n",
              "        2.21988055e-05, 2.02840250e-04]),\n",
              " 'std_score_time': array([9.57335335e-04, 7.13483554e-04, 3.32633502e-04, 5.73216180e-05,\n",
              "        1.78900342e-04, 1.20143813e-04, 2.37835428e-04, 2.59145777e-04,\n",
              "        2.38499799e-04, 1.21428846e-04, 4.79819982e-05, 1.07798255e-04,\n",
              "        5.26965686e-05, 7.92707894e-05, 4.70852489e-05, 4.70798884e-05,\n",
              "        2.91071361e-04, 9.51465911e-05, 6.83746909e-05, 2.39775828e-04,\n",
              "        7.78767784e-05, 5.74143621e-05, 1.45349743e-04, 6.30501347e-05,\n",
              "        6.22247096e-05, 2.00427562e-04, 2.00369187e-04, 1.31861934e-04,\n",
              "        2.42421873e-05, 5.71249411e-04]),\n",
              " 'std_test_score': array([0.06521064, 0.06707002, 0.08015981, 0.05370274, 0.04392127,\n",
              "        0.03921938, 0.06397657, 0.04250495, 0.03735547, 0.02347803,\n",
              "        0.02761305, 0.03893413, 0.02511752, 0.05386009, 0.049863  ,\n",
              "        0.05974909, 0.04157244, 0.05994033, 0.0622282 , 0.03936987,\n",
              "        0.05777484, 0.04192603, 0.0385033 , 0.03961407, 0.05131838,\n",
              "        0.04098464, 0.04906155, 0.05553589, 0.05975583, 0.06159094])}"
            ]
          },
          "metadata": {
            "tags": []
          },
          "execution_count": 24
        }
      ]
    },
    {
      "cell_type": "code",
      "metadata": {
        "id": "4zjdQ8o_l3eE",
        "colab_type": "code",
        "colab": {}
      },
      "source": [
        "scores = grid.cv_results_.get('mean_test_score')\n"
      ],
      "execution_count": 0,
      "outputs": []
    },
    {
      "cell_type": "code",
      "metadata": {
        "id": "ptd6JsU5mD9X",
        "colab_type": "code",
        "colab": {}
      },
      "source": [
        "k_rank = grid.cv_results_.get('rank_test_score')"
      ],
      "execution_count": 0,
      "outputs": []
    },
    {
      "cell_type": "code",
      "metadata": {
        "scrolled": true,
        "id": "-L6mXw1WHubA",
        "colab_type": "code",
        "outputId": "63bb3185-0d15-48c4-d201-94bb8cb92bc0",
        "colab": {
          "base_uri": "https://localhost:8080/",
          "height": 34
        }
      },
      "source": [
        "print(\"Melhores parametros {} com o valor de acurácia {} \".format(grid.best_params_,grid.best_score_))"
      ],
      "execution_count": 36,
      "outputs": [
        {
          "output_type": "stream",
          "text": [
            "Melhores parametros {'n_neighbors': 1} com o valor de acurácia 0.7247191011235955 \n"
          ],
          "name": "stdout"
        }
      ]
    },
    {
      "cell_type": "code",
      "metadata": {
        "id": "ffOWWtpTm7y6",
        "colab_type": "code",
        "outputId": "a8397c35-9c40-4b0a-fa36-f0cb0549b45f",
        "colab": {
          "base_uri": "https://localhost:8080/",
          "height": 391
        }
      },
      "source": [
        "plt.figure(figsize=(10,6))\n",
        "plt.plot(k_list,scores,color='red',linestyle='dashed',marker='o')"
      ],
      "execution_count": 28,
      "outputs": [
        {
          "output_type": "execute_result",
          "data": {
            "text/plain": [
              "[<matplotlib.lines.Line2D at 0x7fb721fda588>]"
            ]
          },
          "metadata": {
            "tags": []
          },
          "execution_count": 28
        },
        {
          "output_type": "display_data",
          "data": {
            "image/png": "[encoded data removed]",
            "text/plain": [
              "<Figure size 720x432 with 1 Axes>"
            ]
          },
          "metadata": {
            "tags": []
          }
        }
      ]
    },
    {
      "cell_type": "markdown",
      "metadata": {
        "id": "xGEJsvgvHubK",
        "colab_type": "text"
      },
      "source": [
        "### Visualizando as fronteiras de complexidade"
      ]
    },
    {
      "cell_type": "markdown",
      "metadata": {
        "id": "PDhIum0gHubL",
        "colab_type": "text"
      },
      "source": [
        "#### Selecionando os dados"
      ]
    },
    {
      "cell_type": "code",
      "metadata": {
        "id": "VGNOCIeUHubN",
        "colab_type": "code",
        "colab": {}
      },
      "source": [
        "X = wine.data[:,[0,2]]\n",
        "y = wine.target"
      ],
      "execution_count": 0,
      "outputs": []
    },
    {
      "cell_type": "markdown",
      "metadata": {
        "id": "B3D-uHpLHubR",
        "colab_type": "text"
      },
      "source": [
        "#### Função para plot de fronteiras de acordo com o número de vizinhos"
      ]
    },
    {
      "cell_type": "code",
      "metadata": {
        "id": "FblNjMCwHubS",
        "colab_type": "code",
        "colab": {}
      },
      "source": [
        "def plot_fronteiras(n_vizinhos):\n",
        "    knn = KNeighborsClassifier(n_neighbors=n_vizinhos)\n",
        "    knn.fit(X, y)\n",
        "    plt.figure(figsize=(8,5))\n",
        "    plot_decision_regions(X,y,clf=knn,legend=2)\n",
        "    plt.xlabel('alcohol')\n",
        "    plt.ylabel('malic_acid')\n",
        "    plt.title('Fronteiras de Complexidade - KNN')"
      ],
      "execution_count": 0,
      "outputs": []
    },
    {
      "cell_type": "markdown",
      "metadata": {
        "id": "oNS6iLSOHubU",
        "colab_type": "text"
      },
      "source": [
        "#### Valor de K = 1"
      ]
    },
    {
      "cell_type": "code",
      "metadata": {
        "scrolled": false,
        "id": "iHBWqC5xHubV",
        "colab_type": "code",
        "outputId": "2361073b-3085-4f0a-b87a-dcb7b37576e3",
        "colab": {
          "base_uri": "https://localhost:8080/",
          "height": 350
        }
      },
      "source": [
        "plot_fronteiras(1)"
      ],
      "execution_count": 39,
      "outputs": [
        {
          "output_type": "display_data",
          "data": {
            "image/png": "[encoded data removed]",
            "text/plain": [
              "<Figure size 576x360 with 1 Axes>"
            ]
          },
          "metadata": {
            "tags": []
          }
        }
      ]
    },
    {
      "cell_type": "markdown",
      "metadata": {
        "id": "DRP4jnqMHubY",
        "colab_type": "text"
      },
      "source": [
        "#### Valor de K = 3"
      ]
    },
    {
      "cell_type": "code",
      "metadata": {
        "scrolled": false,
        "id": "tjvFMjFTHubZ",
        "colab_type": "code",
        "outputId": "e71051b3-fd1e-43bc-833a-c2decd9a1151",
        "colab": {
          "base_uri": "https://localhost:8080/",
          "height": 350
        }
      },
      "source": [
        "plot_fronteiras(3)"
      ],
      "execution_count": 32,
      "outputs": [
        {
          "output_type": "display_data",
          "data": {
            "image/png": "[encoded data removed]",
            "text/plain": [
              "<Figure size 576x360 with 1 Axes>"
            ]
          },
          "metadata": {
            "tags": []
          }
        }
      ]
    },
    {
      "cell_type": "markdown",
      "metadata": {
        "id": "WPgTKym_Hubc",
        "colab_type": "text"
      },
      "source": [
        "#### Valor de K = 7"
      ]
    },
    {
      "cell_type": "code",
      "metadata": {
        "scrolled": false,
        "id": "AGGMIOg_Hubd",
        "colab_type": "code",
        "outputId": "7705eb5c-2e8a-4e16-e7c0-a158c29a335c",
        "colab": {
          "base_uri": "https://localhost:8080/",
          "height": 350
        }
      },
      "source": [
        "plot_fronteiras(7)"
      ],
      "execution_count": 33,
      "outputs": [
        {
          "output_type": "display_data",
          "data": {
            "image/png": "[encoded data removed]",
            "text/plain": [
              "<Figure size 576x360 with 1 Axes>"
            ]
          },
          "metadata": {
            "tags": []
          }
        }
      ]
    },
    {
      "cell_type": "markdown",
      "metadata": {
        "id": "-ERq6FLBHubh",
        "colab_type": "text"
      },
      "source": [
        "#### Valor de K = 30"
      ]
    },
    {
      "cell_type": "code",
      "metadata": {
        "id": "VRR6U_uIHubi",
        "colab_type": "code",
        "outputId": "80a42d45-7e94-4e25-caaf-fe74236016a2",
        "colab": {
          "base_uri": "https://localhost:8080/",
          "height": 350
        }
      },
      "source": [
        "plot_fronteiras(30)"
      ],
      "execution_count": 34,
      "outputs": [
        {
          "output_type": "display_data",
          "data": {
            "image/png": "[encoded data removed]",
            "text/plain": [
              "<Figure size 576x360 with 1 Axes>"
            ]
          },
          "metadata": {
            "tags": []
          }
        }
      ]
    },
    {
      "cell_type": "markdown",
      "metadata": {
        "id": "eYL5t1PkHubo",
        "colab_type": "text"
      },
      "source": [
        "#### Valor de K = Número total de amostras"
      ]
    },
    {
      "cell_type": "code",
      "metadata": {
        "scrolled": false,
        "id": "vpPK1a3QHubp",
        "colab_type": "code",
        "outputId": "785dde30-b6c5-4c46-a6bc-cae31c2e690f",
        "colab": {
          "base_uri": "https://localhost:8080/",
          "height": 384
        }
      },
      "source": [
        "plot_fronteiras(178)"
      ],
      "execution_count": 35,
      "outputs": [
        {
          "output_type": "stream",
          "text": [
            "/usr/local/lib/python3.6/dist-packages/mlxtend/plotting/decision_regions.py:242: UserWarning: No contour levels were found within the data range.\n",
            "  antialiased=True)\n"
          ],
          "name": "stderr"
        },
        {
          "output_type": "display_data",
          "data": {
            "image/png": "[encoded data removed]",
            "text/plain": [
              "<Figure size 576x360 with 1 Axes>"
            ]
          },
          "metadata": {
            "tags": []
          }
        }
      ]
    },
    {
      "cell_type": "code",
      "metadata": {
        "id": "1D7OZsqdk5HA",
        "colab_type": "code",
        "colab": {}
      },
      "source": [
        ""
      ],
      "execution_count": 0,
      "outputs": []
    }
  ]
}